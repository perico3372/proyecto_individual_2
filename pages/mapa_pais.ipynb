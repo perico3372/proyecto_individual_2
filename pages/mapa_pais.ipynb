{
 "cells": [
  {
   "cell_type": "code",
   "execution_count": 2,
   "id": "496787e8-ec49-4501-8e63-f08d7a9da89d",
   "metadata": {
    "execution": {
     "iopub.execute_input": "2023-05-21T23:35:52.860788Z",
     "iopub.status.busy": "2023-05-21T23:35:52.859937Z",
     "iopub.status.idle": "2023-05-21T23:35:52.987911Z",
     "shell.execute_reply": "2023-05-21T23:35:52.987043Z",
     "shell.execute_reply.started": "2023-05-21T23:35:52.860746Z"
    },
    "tags": []
   },
   "outputs": [
    {
     "name": "stdout",
     "output_type": "stream",
     "text": [
      "/_disk_dev/spyder/pages\n"
     ]
    }
   ],
   "source": [
    "!pwd"
   ]
  },
  {
   "cell_type": "code",
   "execution_count": null,
   "id": "32ac2abf-9656-43c8-8751-1400a1ee1325",
   "metadata": {
    "tags": []
   },
   "outputs": [],
   "source": [
    "import streamlit as st\n",
    "import pandas as pd\n",
    "import plotly.express as px\n",
    "\n",
    "# Leer los datos desde el archivo CSV\n",
    "datos = pd.read_csv('accidentes.csv')\n",
    "\n",
    "# Crear la visualización del mapa con Plotly Express\n",
    "fig = px.choropleth(datos, locations='País', locationmode='country names', color='Cantidad',\n",
    "                    color_continuous_scale='Viridis',\n",
    "                    title='Cantidad de accidentes por país')\n",
    "\n",
    "# Configurar la aplicación Streamlit y mostrar la visualización del mapa\n",
    "st.title('Mapa de accidentes por país')\n",
    "st.plotly_chart(fig)"
   ]
  },
  {
   "cell_type": "code",
   "execution_count": null,
   "id": "34835cf7-28a3-44df-9c58-030cfefb956f",
   "metadata": {},
   "outputs": [],
   "source": []
  }
 ],
 "metadata": {
  "kernelspec": {
   "display_name": "Python 3 (ipykernel)",
   "language": "python",
   "name": "python3"
  },
  "language_info": {
   "codemirror_mode": {
    "name": "ipython",
    "version": 3
   },
   "file_extension": ".py",
   "mimetype": "text/x-python",
   "name": "python",
   "nbconvert_exporter": "python",
   "pygments_lexer": "ipython3",
   "version": "3.10.10"
  }
 },
 "nbformat": 4,
 "nbformat_minor": 5
}
